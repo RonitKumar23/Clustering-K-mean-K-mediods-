{
 "cells": [
  {
   "cell_type": "markdown",
   "metadata": {},
   "source": [
    "### K-mean"
   ]
  },
  {
   "cell_type": "code",
   "execution_count": 1,
   "metadata": {},
   "outputs": [],
   "source": [
    "import matplotlib.pyplot as plt\n",
    "import random\n",
    "import math"
   ]
  },
  {
   "cell_type": "code",
   "execution_count": 2,
   "metadata": {},
   "outputs": [],
   "source": [
    "datapoints=[(1,1),(2,1),(4,3),(5,4)]"
   ]
  },
  {
   "cell_type": "code",
   "execution_count": 3,
   "metadata": {},
   "outputs": [
    {
     "name": "stdout",
     "output_type": "stream",
     "text": [
      "[(4, 3), (2, 1)]\n"
     ]
    }
   ],
   "source": [
    "k=2\n",
    "s_points=random.sample(datapoints, k)\n",
    "print(s_points)"
   ]
  },
  {
   "cell_type": "code",
   "execution_count": 4,
   "metadata": {},
   "outputs": [],
   "source": [
    "def centroid(cluster):\n",
    "    centre_x=0\n",
    "    centre_y=0\n",
    "    count=0\n",
    "    for i in range(0,len(cluster)):\n",
    "        centre_x = centre_x + cluster[i][0]\n",
    "        centre_y = centre_y + cluster[i][1]\n",
    "        count=count+1\n",
    "    return centre_x/count,centre_y/count"
   ]
  },
  {
   "cell_type": "code",
   "execution_count": 5,
   "metadata": {},
   "outputs": [],
   "source": [
    "def kmean(s_points,datapoints):\n",
    "    temp=0\n",
    "    print(\"seed point  is \",s_points)\n",
    "    while(temp!=1):\n",
    "        matrix=[]\n",
    "        for i in range(len(s_points)):\n",
    "            matrix_row=[]\n",
    "            for j in range(len(datapoints)):\n",
    "                dis=((datapoints[j][0]-s_points[i][0])**2) + ((datapoints[j][1]-s_points[i][1])**2)\n",
    "                #print(math.sqrt(dis))\n",
    "                matrix_row.append(math.sqrt(dis))\n",
    "            matrix.append(matrix_row)\n",
    "        print(\"matrix is \",matrix)\n",
    "        print(\"\\n\")\n",
    "\n",
    "\n",
    "        cluster1=[]\n",
    "        cluster2=[]\n",
    "        count=0\n",
    "\n",
    "        for j in range(0,len(matrix[0])):\n",
    "            if matrix[0][j]<matrix[1][j]:\n",
    "                cluster1.append(datapoints[j])\n",
    "            else:\n",
    "                cluster2.append(datapoints[j])\n",
    "\n",
    "        print(\"cluster 1 is \",cluster1)\n",
    "        print(\"cluster 2 is \",cluster2)\n",
    "        \n",
    "        print(\"\\n\")\n",
    "        \n",
    "        centre1 = centroid(cluster1)\n",
    "        centre2 = centroid(cluster2)\n",
    "        \n",
    "        print(\"centrer 1 is \",centre1)\n",
    "        print(\"centre 2 is \",centre2)\n",
    "        \n",
    "        print(\"\\n\")\n",
    "        \n",
    "        if s_points[0]==centre1 and s_points[1]==centre2:\n",
    "            temp=temp+1\n",
    "            for i in range(0,len(cluster1)):\n",
    "                plt.scatter(cluster1[i][0],cluster1[i][1])\n",
    "            for i in range(0,len(cluster2)):   \n",
    "                plt.scatter(cluster2[i][0],cluster2[i][1])\n",
    "    \n",
    "        else:\n",
    "            s_points=(centre1,centre2)\n",
    "            print(\"seed point  is \",s_points)  \n",
    "        "
   ]
  },
  {
   "cell_type": "code",
   "execution_count": 6,
   "metadata": {},
   "outputs": [
    {
     "name": "stdout",
     "output_type": "stream",
     "text": [
      "seed point  is  [(4, 3), (2, 1)]\n",
      "matrix is  [[3.605551275463989, 2.8284271247461903, 0.0, 1.4142135623730951], [1.0, 0.0, 2.8284271247461903, 4.242640687119285]]\n",
      "\n",
      "\n",
      "cluster 1 is  [(4, 3), (5, 4)]\n",
      "cluster 2 is  [(1, 1), (2, 1)]\n",
      "\n",
      "\n",
      "centrer 1 is  (4.5, 3.5)\n",
      "centre 2 is  (1.5, 1.0)\n",
      "\n",
      "\n",
      "seed point  is  ((4.5, 3.5), (1.5, 1.0))\n",
      "matrix is  [[4.301162633521313, 3.5355339059327378, 0.7071067811865476, 0.7071067811865476], [0.5, 0.5, 3.2015621187164243, 4.6097722286464435]]\n",
      "\n",
      "\n",
      "cluster 1 is  [(4, 3), (5, 4)]\n",
      "cluster 2 is  [(1, 1), (2, 1)]\n",
      "\n",
      "\n",
      "centrer 1 is  (4.5, 3.5)\n",
      "centre 2 is  (1.5, 1.0)\n",
      "\n",
      "\n"
     ]
    },
    {
     "data": {
      "image/png": "[encoded data removed]",
      "text/plain": [
       "<Figure size 432x288 with 1 Axes>"
      ]
     },
     "metadata": {
      "needs_background": "light"
     },
     "output_type": "display_data"
    }
   ],
   "source": [
    "kmean(s_points,datapoints)"
   ]
  },
  {
   "cell_type": "markdown",
   "metadata": {},
   "source": [
    "### K-medoid"
   ]
  },
  {
   "cell_type": "code",
   "execution_count": 7,
   "metadata": {},
   "outputs": [],
   "source": [
    "data=[(2,6),(3,4),(3,8),(5,7),(6,2),(6,4),(7,3),(7,4),(8,5),(7,6)]"
   ]
  },
  {
   "cell_type": "code",
   "execution_count": 8,
   "metadata": {},
   "outputs": [
    {
     "name": "stdout",
     "output_type": "stream",
     "text": [
      "[(6, 2), (8, 5)]\n"
     ]
    }
   ],
   "source": [
    "k=2\n",
    "#s_points=random.sample(data, k)\n",
    "''' We can select random seed point '''\n",
    "s_points=[(6,2),(8,5)]\n",
    "print(s_points)"
   ]
  },
  {
   "cell_type": "code",
   "execution_count": null,
   "metadata": {},
   "outputs": [],
   "source": []
  },
  {
   "cell_type": "code",
   "execution_count": 9,
   "metadata": {},
   "outputs": [],
   "source": [
    "def distance(data,s_points):\n",
    "    data1=set(data)-set(s_points)\n",
    "    data_1 = list(data1)\n",
    "    print(\"Data points after removal of seed point\",data_1)\n",
    "    cost_matrix1 = []\n",
    "    cost_matrix2 = []\n",
    "    for i in range(0,len(data_1)):\n",
    "        cost1=abs(data_1[i][0]-s_points[0][0]) + abs(data_1[i][1]-s_points[0][1])\n",
    "        cost2=abs(data_1[i][0]-s_points[1][0]) + abs(data_1[i][1]-s_points[1][1])\n",
    "        \n",
    "        cost_matrix1.append(cost1)\n",
    "        cost_matrix2.append(cost2)\n",
    "    return cost_matrix1,cost_matrix2,data_1\n",
    "#distance(data,s_points)"
   ]
  },
  {
   "cell_type": "code",
   "execution_count": 10,
   "metadata": {},
   "outputs": [],
   "source": [
    "def cluster_AND_cost(cost_matrix1,cost_matrix2,data_1,s_points):\n",
    "    cluster1=[s_points[0]]\n",
    "    cluster2=[s_points[1]]\n",
    "    cost=0\n",
    "    for i in range(0,len(cost_matrix1)):\n",
    "        if cost_matrix1[i]<cost_matrix2[i]:\n",
    "            cluster1.append(data_1[i])\n",
    "            cost=cost+cost_matrix1[i]\n",
    "        else:\n",
    "            cluster2.append(data_1[i])\n",
    "            cost=cost+cost_matrix2[i]\n",
    "\n",
    "    print(\"Total Cost = \",cost)\n",
    "    print(\"cluster1 \",cluster1)\n",
    "    print(\"cluster1 \",cluster2)\n",
    "    \n",
    "    return cost,cluster1,cluster2"
   ]
  },
  {
   "cell_type": "code",
   "execution_count": 11,
   "metadata": {},
   "outputs": [
    {
     "name": "stdout",
     "output_type": "stream",
     "text": [
      "s_points  [(6, 2), (8, 5)]\n",
      "Data points after removal of seed point [(6, 4), (7, 3), (2, 6), (7, 6), (5, 7), (3, 8), (7, 4), (3, 4)]\n",
      "Cost from seed point 1  [2, 2, 8, 5, 6, 9, 3, 5]  Cost from seed point 2  [3, 3, 7, 2, 5, 8, 2, 6]\n",
      "Total Cost =  33\n",
      "cluster1  [(6, 2), (6, 4), (7, 3), (3, 4)]\n",
      "cluster1  [(8, 5), (2, 6), (7, 6), (5, 7), (3, 8), (7, 4)]\n",
      "\n",
      "s_points  [(2, 6), (6, 2)]\n",
      "Data points after removal of seed point [(6, 4), (7, 3), (7, 6), (5, 7), (3, 8), (7, 4), (3, 4), (8, 5)]\n",
      "Cost from seed point 1  [6, 8, 5, 4, 3, 7, 3, 7]  Cost from seed point 2  [2, 2, 5, 6, 9, 3, 5, 5]\n",
      "Total Cost =  27\n",
      "cluster1  [(2, 6), (5, 7), (3, 8), (3, 4)]\n",
      "cluster1  [(6, 2), (6, 4), (7, 3), (7, 6), (7, 4), (8, 5)]\n",
      "Final cost Difference is  6\n"
     ]
    },
    {
     "data": {
      "image/png": "[encoded data removed]",
      "text/plain": [
       "<Figure size 432x288 with 1 Axes>"
      ]
     },
     "metadata": {
      "needs_background": "light"
     },
     "output_type": "display_data"
    }
   ],
   "source": [
    "def k_medoid(data,s_points):\n",
    "    cost_diff=0\n",
    "    while(cost_diff<=0):\n",
    "        print(\"s_points \",s_points)\n",
    "        cost_matrix1,cost_matrix2,data_1 = distance(data,s_points)\n",
    "        print(\"Cost from seed point 1 \",cost_matrix1,\" Cost from seed point 2 \",cost_matrix2)\n",
    "\n",
    "        cost1,cluster1,cluster2 = cluster_AND_cost(cost_matrix1,cost_matrix2,data_1,s_points)\n",
    "\n",
    "\n",
    "        #s_points_new=random.sample(data_1, 1)\n",
    "        ''' We can select random seed point '''\n",
    "        \n",
    "        s_points_new = [(2,6)]\n",
    "        s_points_new.append(s_points[0])\n",
    "\n",
    "        s_points = s_points_new\n",
    "        print(\"\\ns_points \",s_points)\n",
    "\n",
    "        cost_matrix11,cost_matrix12,data_1 = distance(data,s_points)\n",
    "        print(\"Cost from seed point 1 \",cost_matrix11,\" Cost from seed point 2 \",cost_matrix12)\n",
    "        cost2,cluster11,cluster22 = cluster_AND_cost(cost_matrix11,cost_matrix12,data_1,s_points)\n",
    "        \n",
    "        cost_diff = cost1 - cost2\n",
    "        print(\"Final cost Difference is \",cost_diff)\n",
    "        \n",
    "    for i in range(0,len(cluster1)):\n",
    "        plt.scatter(cluster1[i][0],cluster1[i][1])\n",
    "    for i in range(0,len(cluster2)):\n",
    "        plt.scatter(cluster2[i][0],cluster2[i][1])\n",
    "    \n",
    "k_medoid(data,s_points)"
   ]
  },
  {
   "cell_type": "code",
   "execution_count": null,
   "metadata": {},
   "outputs": [],
   "source": []
  },
  {
   "cell_type": "code",
   "execution_count": null,
   "metadata": {},
   "outputs": [],
   "source": []
  }
 ],
 "metadata": {
  "kernelspec": {
   "display_name": "Python 3",
   "language": "python",
   "name": "python3"
  },
  "language_info": {
   "codemirror_mode": {
    "name": "ipython",
    "version": 3
   },
   "file_extension": ".py",
   "mimetype": "text/x-python",
   "name": "python",
   "nbconvert_exporter": "python",
   "pygments_lexer": "ipython3",
   "version": "3.7.1"
  }
 },
 "nbformat": 4,
 "nbformat_minor": 2
}
